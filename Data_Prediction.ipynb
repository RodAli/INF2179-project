{
 "cells": [
  {
   "cell_type": "markdown",
   "id": "70a37fca-5c75-4f8f-9a83-cee30475c259",
   "metadata": {},
   "source": [
    "TODO:\n",
    "- Do some lemmitization or stemming\n",
    "- Find the best model\n",
    "- Find the most important words used in fake and non-fake job postings\n",
    "- clean text data before tf-idf"
   ]
  },
  {
   "cell_type": "markdown",
   "id": "80bbbd23-edec-4da8-856b-6f5c5db5f204",
   "metadata": {},
   "source": [
    "## Import Libraries"
   ]
  },
  {
   "cell_type": "code",
   "execution_count": 1,
   "id": "5d3a9c80-6323-41f0-bc38-9d14d68108fa",
   "metadata": {},
   "outputs": [],
   "source": [
    "import pandas as pd\n",
    "import numpy as np\n",
    "\n",
    "from sklearn.feature_extraction.text import TfidfVectorizer\n",
    "from sklearn import preprocessing\n",
    "from sklearn.model_selection import train_test_split\n",
    "from sklearn.dummy import DummyClassifier\n",
    "from sklearn.metrics import accuracy_score\n",
    "from sklearn.ensemble import RandomForestClassifier\n",
    "from sklearn.model_selection import StratifiedKFold"
   ]
  },
  {
   "cell_type": "code",
   "execution_count": 2,
   "id": "c04d954d-0468-4f20-8c21-bb09c8186d28",
   "metadata": {},
   "outputs": [],
   "source": [
    "FILENAME = \"cleaned_fake_job_postings.csv\"\n",
    "INDEX = \"job_id\"\n",
    "TARGET_VARIABLE = \"fraudulent\"\n",
    "RANDOM_STATE = 12345"
   ]
  },
  {
   "cell_type": "markdown",
   "id": "213ab370-66ab-457b-9572-8365d96736b8",
   "metadata": {
    "tags": []
   },
   "source": [
    "## Load data"
   ]
  },
  {
   "cell_type": "code",
   "execution_count": 3,
   "id": "cfc8d471-fda5-439d-9562-f70cdce17919",
   "metadata": {},
   "outputs": [
    {
     "data": {
      "text/html": [
       "<div>\n",
       "<style scoped>\n",
       "    .dataframe tbody tr th:only-of-type {\n",
       "        vertical-align: middle;\n",
       "    }\n",
       "\n",
       "    .dataframe tbody tr th {\n",
       "        vertical-align: top;\n",
       "    }\n",
       "\n",
       "    .dataframe thead th {\n",
       "        text-align: right;\n",
       "    }\n",
       "</style>\n",
       "<table border=\"1\" class=\"dataframe\">\n",
       "  <thead>\n",
       "    <tr style=\"text-align: right;\">\n",
       "      <th></th>\n",
       "      <th>telecommuting</th>\n",
       "      <th>has_company_logo</th>\n",
       "      <th>has_questions</th>\n",
       "      <th>employment_type</th>\n",
       "      <th>required_experience</th>\n",
       "      <th>required_education</th>\n",
       "      <th>function</th>\n",
       "      <th>fraudulent</th>\n",
       "      <th>text</th>\n",
       "    </tr>\n",
       "    <tr>\n",
       "      <th>job_id</th>\n",
       "      <th></th>\n",
       "      <th></th>\n",
       "      <th></th>\n",
       "      <th></th>\n",
       "      <th></th>\n",
       "      <th></th>\n",
       "      <th></th>\n",
       "      <th></th>\n",
       "      <th></th>\n",
       "    </tr>\n",
       "  </thead>\n",
       "  <tbody>\n",
       "    <tr>\n",
       "      <th>1</th>\n",
       "      <td>False</td>\n",
       "      <td>True</td>\n",
       "      <td>False</td>\n",
       "      <td>Other</td>\n",
       "      <td>Junior</td>\n",
       "      <td>NaN</td>\n",
       "      <td>Business</td>\n",
       "      <td>False</td>\n",
       "      <td>Marketing Intern We're Food52, and we've creat...</td>\n",
       "    </tr>\n",
       "    <tr>\n",
       "      <th>2</th>\n",
       "      <td>False</td>\n",
       "      <td>True</td>\n",
       "      <td>False</td>\n",
       "      <td>Full-time</td>\n",
       "      <td>NaN</td>\n",
       "      <td>NaN</td>\n",
       "      <td>Business</td>\n",
       "      <td>False</td>\n",
       "      <td>Customer Service - Cloud Video Production 90 S...</td>\n",
       "    </tr>\n",
       "    <tr>\n",
       "      <th>3</th>\n",
       "      <td>False</td>\n",
       "      <td>True</td>\n",
       "      <td>False</td>\n",
       "      <td>NaN</td>\n",
       "      <td>NaN</td>\n",
       "      <td>NaN</td>\n",
       "      <td>NaN</td>\n",
       "      <td>False</td>\n",
       "      <td>Commissioning Machinery Assistant (CMA) Valor ...</td>\n",
       "    </tr>\n",
       "    <tr>\n",
       "      <th>4</th>\n",
       "      <td>False</td>\n",
       "      <td>True</td>\n",
       "      <td>False</td>\n",
       "      <td>Full-time</td>\n",
       "      <td>Standard</td>\n",
       "      <td>Undergraduate</td>\n",
       "      <td>Business</td>\n",
       "      <td>False</td>\n",
       "      <td>Account Executive - Washington DC Our passion ...</td>\n",
       "    </tr>\n",
       "    <tr>\n",
       "      <th>5</th>\n",
       "      <td>False</td>\n",
       "      <td>True</td>\n",
       "      <td>True</td>\n",
       "      <td>Full-time</td>\n",
       "      <td>Standard</td>\n",
       "      <td>Undergraduate</td>\n",
       "      <td>Healthcare</td>\n",
       "      <td>False</td>\n",
       "      <td>Bill Review Manager SpotSource Solutions LLC i...</td>\n",
       "    </tr>\n",
       "  </tbody>\n",
       "</table>\n",
       "</div>"
      ],
      "text/plain": [
       "        telecommuting  has_company_logo  has_questions employment_type  \\\n",
       "job_id                                                                   \n",
       "1               False              True          False           Other   \n",
       "2               False              True          False       Full-time   \n",
       "3               False              True          False             NaN   \n",
       "4               False              True          False       Full-time   \n",
       "5               False              True           True       Full-time   \n",
       "\n",
       "       required_experience required_education    function  fraudulent  \\\n",
       "job_id                                                                  \n",
       "1                   Junior                NaN    Business       False   \n",
       "2                      NaN                NaN    Business       False   \n",
       "3                      NaN                NaN         NaN       False   \n",
       "4                 Standard      Undergraduate    Business       False   \n",
       "5                 Standard      Undergraduate  Healthcare       False   \n",
       "\n",
       "                                                     text  \n",
       "job_id                                                     \n",
       "1       Marketing Intern We're Food52, and we've creat...  \n",
       "2       Customer Service - Cloud Video Production 90 S...  \n",
       "3       Commissioning Machinery Assistant (CMA) Valor ...  \n",
       "4       Account Executive - Washington DC Our passion ...  \n",
       "5       Bill Review Manager SpotSource Solutions LLC i...  "
      ]
     },
     "execution_count": 3,
     "metadata": {},
     "output_type": "execute_result"
    }
   ],
   "source": [
    "df = pd.read_csv(FILENAME)\n",
    "df.set_index(INDEX, inplace=True)\n",
    "df.head()"
   ]
  },
  {
   "cell_type": "markdown",
   "id": "e9ef66d6-a4c8-4be4-8f0d-f354b6660981",
   "metadata": {
    "tags": []
   },
   "source": [
    "## Encode Categorical data"
   ]
  },
  {
   "cell_type": "code",
   "execution_count": 4,
   "id": "68262b77-ac0c-4e25-b8b3-ba233abfb3e7",
   "metadata": {},
   "outputs": [
    {
     "data": {
      "text/html": [
       "<div>\n",
       "<style scoped>\n",
       "    .dataframe tbody tr th:only-of-type {\n",
       "        vertical-align: middle;\n",
       "    }\n",
       "\n",
       "    .dataframe tbody tr th {\n",
       "        vertical-align: top;\n",
       "    }\n",
       "\n",
       "    .dataframe thead th {\n",
       "        text-align: right;\n",
       "    }\n",
       "</style>\n",
       "<table border=\"1\" class=\"dataframe\">\n",
       "  <thead>\n",
       "    <tr style=\"text-align: right;\">\n",
       "      <th></th>\n",
       "      <th>telecommuting</th>\n",
       "      <th>has_company_logo</th>\n",
       "      <th>has_questions</th>\n",
       "      <th>employment_type</th>\n",
       "      <th>required_experience</th>\n",
       "      <th>required_education</th>\n",
       "      <th>function</th>\n",
       "      <th>fraudulent</th>\n",
       "      <th>text</th>\n",
       "    </tr>\n",
       "    <tr>\n",
       "      <th>job_id</th>\n",
       "      <th></th>\n",
       "      <th></th>\n",
       "      <th></th>\n",
       "      <th></th>\n",
       "      <th></th>\n",
       "      <th></th>\n",
       "      <th></th>\n",
       "      <th></th>\n",
       "      <th></th>\n",
       "    </tr>\n",
       "  </thead>\n",
       "  <tbody>\n",
       "    <tr>\n",
       "      <th>1</th>\n",
       "      <td>0</td>\n",
       "      <td>1</td>\n",
       "      <td>0</td>\n",
       "      <td>1</td>\n",
       "      <td>0</td>\n",
       "      <td>4</td>\n",
       "      <td>0</td>\n",
       "      <td>0</td>\n",
       "      <td>Marketing Intern We're Food52, and we've creat...</td>\n",
       "    </tr>\n",
       "    <tr>\n",
       "      <th>2</th>\n",
       "      <td>0</td>\n",
       "      <td>1</td>\n",
       "      <td>0</td>\n",
       "      <td>0</td>\n",
       "      <td>3</td>\n",
       "      <td>4</td>\n",
       "      <td>0</td>\n",
       "      <td>0</td>\n",
       "      <td>Customer Service - Cloud Video Production 90 S...</td>\n",
       "    </tr>\n",
       "    <tr>\n",
       "      <th>3</th>\n",
       "      <td>0</td>\n",
       "      <td>1</td>\n",
       "      <td>0</td>\n",
       "      <td>3</td>\n",
       "      <td>3</td>\n",
       "      <td>4</td>\n",
       "      <td>10</td>\n",
       "      <td>0</td>\n",
       "      <td>Commissioning Machinery Assistant (CMA) Valor ...</td>\n",
       "    </tr>\n",
       "    <tr>\n",
       "      <th>4</th>\n",
       "      <td>0</td>\n",
       "      <td>1</td>\n",
       "      <td>0</td>\n",
       "      <td>0</td>\n",
       "      <td>2</td>\n",
       "      <td>3</td>\n",
       "      <td>0</td>\n",
       "      <td>0</td>\n",
       "      <td>Account Executive - Washington DC Our passion ...</td>\n",
       "    </tr>\n",
       "    <tr>\n",
       "      <th>5</th>\n",
       "      <td>0</td>\n",
       "      <td>1</td>\n",
       "      <td>1</td>\n",
       "      <td>0</td>\n",
       "      <td>2</td>\n",
       "      <td>3</td>\n",
       "      <td>5</td>\n",
       "      <td>0</td>\n",
       "      <td>Bill Review Manager SpotSource Solutions LLC i...</td>\n",
       "    </tr>\n",
       "  </tbody>\n",
       "</table>\n",
       "</div>"
      ],
      "text/plain": [
       "        telecommuting  has_company_logo  has_questions  employment_type  \\\n",
       "job_id                                                                    \n",
       "1                   0                 1              0                1   \n",
       "2                   0                 1              0                0   \n",
       "3                   0                 1              0                3   \n",
       "4                   0                 1              0                0   \n",
       "5                   0                 1              1                0   \n",
       "\n",
       "        required_experience  required_education  function  fraudulent  \\\n",
       "job_id                                                                  \n",
       "1                         0                   4         0           0   \n",
       "2                         3                   4         0           0   \n",
       "3                         3                   4        10           0   \n",
       "4                         2                   3         0           0   \n",
       "5                         2                   3         5           0   \n",
       "\n",
       "                                                     text  \n",
       "job_id                                                     \n",
       "1       Marketing Intern We're Food52, and we've creat...  \n",
       "2       Customer Service - Cloud Video Production 90 S...  \n",
       "3       Commissioning Machinery Assistant (CMA) Valor ...  \n",
       "4       Account Executive - Washington DC Our passion ...  \n",
       "5       Bill Review Manager SpotSource Solutions LLC i...  "
      ]
     },
     "execution_count": 4,
     "metadata": {},
     "output_type": "execute_result"
    }
   ],
   "source": [
    "categorical_columns = [\"telecommuting\", \"has_company_logo\", \"has_questions\", \"employment_type\", \"required_experience\", \"required_education\", \"function\", \"fraudulent\"]\n",
    "encoders = {}\n",
    "\n",
    "for col in categorical_columns:    \n",
    "    le = preprocessing.LabelEncoder()\n",
    "    df.loc[:, col] = le.fit_transform(df[col])\n",
    "    encoders[col] = le\n",
    "\n",
    "df.head()"
   ]
  },
  {
   "cell_type": "markdown",
   "id": "110347a8-f472-4ac6-a9d4-d9fed71d2333",
   "metadata": {
    "tags": []
   },
   "source": [
    "## Baseline Classifier"
   ]
  },
  {
   "cell_type": "code",
   "execution_count": 5,
   "id": "a914fe37-8d91-4960-9781-ed22d3cc5fe0",
   "metadata": {},
   "outputs": [
    {
     "data": {
      "text/plain": [
       "0.9516778523489933"
      ]
     },
     "execution_count": 5,
     "metadata": {},
     "output_type": "execute_result"
    }
   ],
   "source": [
    "X = df.drop(\"fraudulent\", axis=1)\n",
    "y = df.loc[:, \"fraudulent\"]\n",
    "X_train, X_test, y_train, y_test = train_test_split(X, y, test_size=0.25, stratify=y, random_state=RANDOM_STATE)\n",
    "\n",
    "bc = DummyClassifier(strategy=\"most_frequent\")\n",
    "bc.fit(X_train, y_train)\n",
    "bc.score(X_test, y_test)"
   ]
  },
  {
   "cell_type": "markdown",
   "id": "a33c5a78-8bb7-40c2-9c18-c926973d77cb",
   "metadata": {},
   "source": [
    "## Random Forest Classification using TF-IDF"
   ]
  },
  {
   "cell_type": "code",
   "execution_count": 6,
   "id": "19318ebe-56c0-4f83-937e-30fd1d465d42",
   "metadata": {},
   "outputs": [],
   "source": [
    "TFIDF_MAX_FEATURES = 100\n",
    "TFIDF_NGRAM_RANGE = (1,1)\n",
    "CORPUS_COLUMN_NAME = \"text\"\n",
    "\n",
    "def random_forest_classify(X_train, y_train, X_test, y_test):\n",
    "    tf_idf = TfidfVectorizer(stop_words=\"english\", ngram_range=TFIDF_NGRAM_RANGE, max_features=TFIDF_MAX_FEATURES)\n",
    "    tf_idf.fit(X_train[CORPUS_COLUMN_NAME])\n",
    "    tf_idf_feature_names = \"tfidf_\" + np.array(tf_idf.get_feature_names(), dtype=object)\n",
    "    tf_idf_train = pd.DataFrame(tf_idf.transform(X_train[CORPUS_COLUMN_NAME]).toarray(), columns=tf_idf_feature_names, index=X_train.index)\n",
    "    tf_idf_test = pd.DataFrame(tf_idf.transform(X_test[CORPUS_COLUMN_NAME]).toarray(), columns=tf_idf_feature_names, index=X_test.index)\n",
    "\n",
    "    X_train = X_train.drop(CORPUS_COLUMN_NAME, axis=1).join(tf_idf_train)\n",
    "    X_test = X_test.drop(CORPUS_COLUMN_NAME, axis=1).join(tf_idf_test)\n",
    "    \n",
    "    rfc = RandomForestClassifier(n_estimators=100, criterion=\"entropy\")\n",
    "    rfc.fit(X_train, y_train)\n",
    "    return rfc.score(X_test, y_test)\n",
    "    "
   ]
  },
  {
   "cell_type": "code",
   "execution_count": 7,
   "id": "fb23b3ff-13de-4fb2-a0e4-ef6ee6a5fcf6",
   "metadata": {},
   "outputs": [
    {
     "name": "stdout",
     "output_type": "stream",
     "text": [
      "k-fold = 1 complete\n",
      "k-fold = 2 complete\n",
      "k-fold = 3 complete\n",
      "k-fold = 4 complete\n",
      "k-fold = 5 complete\n",
      "k-fold = 6 complete\n",
      "k-fold = 7 complete\n",
      "k-fold = 8 complete\n",
      "k-fold = 9 complete\n",
      "k-fold = 10 complete\n"
     ]
    },
    {
     "data": {
      "text/plain": [
       "[0.9692393736017897,\n",
       " 0.9742729306487695,\n",
       " 0.9714765100671141,\n",
       " 0.9776286353467561,\n",
       " 0.9737136465324385,\n",
       " 0.9759507829977628,\n",
       " 0.9697986577181208,\n",
       " 0.9697986577181208,\n",
       " 0.9737136465324385,\n",
       " 0.9781879194630873]"
      ]
     },
     "execution_count": 7,
     "metadata": {},
     "output_type": "execute_result"
    }
   ],
   "source": [
    "X = df.drop(\"fraudulent\", axis=1)\n",
    "y = df.loc[:, \"fraudulent\"]\n",
    "skf = StratifiedKFold(n_splits=10, random_state=RANDOM_STATE, shuffle=True)\n",
    "accuracies = []\n",
    "i = 1\n",
    "for train_index, test_index in skf.split(X, y):\n",
    "    X_train = X.iloc[train_index, :]\n",
    "    y_train = y.iloc[train_index]\n",
    "    X_test = X.iloc[test_index, :]\n",
    "    y_test = y.iloc[test_index]\n",
    "    \n",
    "    accuracy = random_forest_classify(X_train, y_train, X_test, y_test)\n",
    "    accuracies.append(accuracy)\n",
    "    print(\"k-fold =\",i,\"complete\")\n",
    "    i += 1\n",
    "\n",
    "accuracies"
   ]
  },
  {
   "cell_type": "code",
   "execution_count": 8,
   "id": "710dd3bf-40b1-402e-b3a8-770b84dd922d",
   "metadata": {},
   "outputs": [
    {
     "data": {
      "text/plain": [
       "0.9733780760626398"
      ]
     },
     "execution_count": 8,
     "metadata": {},
     "output_type": "execute_result"
    }
   ],
   "source": [
    "np.array(accuracies).mean()"
   ]
  },
  {
   "cell_type": "code",
   "execution_count": 9,
   "id": "e9c3d556-1dc4-4f6e-9234-b74fb972814c",
   "metadata": {},
   "outputs": [],
   "source": [
    "X_train, X_test, y_train, y_test = train_test_split(df.drop(\"fraudulent\", axis=1), df.loc[:, \"fraudulent\"], test_size=0.25, random_state=RANDOM_STATE)"
   ]
  },
  {
   "cell_type": "code",
   "execution_count": 10,
   "id": "f22575b0-bf7d-4ef2-aecc-af3758c50408",
   "metadata": {},
   "outputs": [
    {
     "ename": "NameError",
     "evalue": "name 'text_columns' is not defined",
     "output_type": "error",
     "traceback": [
      "\u001b[0;31m---------------------------------------------------------------------------\u001b[0m",
      "\u001b[0;31mNameError\u001b[0m                                 Traceback (most recent call last)",
      "\u001b[0;32m/var/folders/0w/0fcfqzc51k1gmx9m83mxpy100000gn/T/ipykernel_40723/3654523883.py\u001b[0m in \u001b[0;36m<module>\u001b[0;34m\u001b[0m\n\u001b[1;32m      2\u001b[0m \u001b[0mNGRAM_RANGE\u001b[0m \u001b[0;34m=\u001b[0m \u001b[0;34m(\u001b[0m\u001b[0;36m1\u001b[0m\u001b[0;34m,\u001b[0m\u001b[0;36m1\u001b[0m\u001b[0;34m)\u001b[0m\u001b[0;34m\u001b[0m\u001b[0;34m\u001b[0m\u001b[0m\n\u001b[1;32m      3\u001b[0m \u001b[0;34m\u001b[0m\u001b[0m\n\u001b[0;32m----> 4\u001b[0;31m \u001b[0mcorpus_train\u001b[0m \u001b[0;34m=\u001b[0m \u001b[0mX_train\u001b[0m\u001b[0;34m.\u001b[0m\u001b[0mloc\u001b[0m\u001b[0;34m[\u001b[0m\u001b[0;34m:\u001b[0m\u001b[0;34m,\u001b[0m \u001b[0mtext_columns\u001b[0m\u001b[0;34m]\u001b[0m\u001b[0;31m \u001b[0m\u001b[0;31m\\\u001b[0m\u001b[0;34m\u001b[0m\u001b[0;34m\u001b[0m\u001b[0m\n\u001b[0m\u001b[1;32m      5\u001b[0m     \u001b[0;34m.\u001b[0m\u001b[0mfillna\u001b[0m\u001b[0;34m(\u001b[0m\u001b[0;34m\"\"\u001b[0m\u001b[0;34m)\u001b[0m\u001b[0;31m \u001b[0m\u001b[0;31m\\\u001b[0m\u001b[0;34m\u001b[0m\u001b[0;34m\u001b[0m\u001b[0m\n\u001b[1;32m      6\u001b[0m     \u001b[0;34m.\u001b[0m\u001b[0mapply\u001b[0m\u001b[0;34m(\u001b[0m\u001b[0;32mlambda\u001b[0m \u001b[0mrow\u001b[0m\u001b[0;34m:\u001b[0m \u001b[0;34m\" \"\u001b[0m\u001b[0;34m.\u001b[0m\u001b[0mjoin\u001b[0m\u001b[0;34m(\u001b[0m\u001b[0;34m[\u001b[0m\u001b[0mrow\u001b[0m\u001b[0;34m[\u001b[0m\u001b[0mcol\u001b[0m\u001b[0;34m]\u001b[0m \u001b[0;32mfor\u001b[0m \u001b[0mcol\u001b[0m \u001b[0;32min\u001b[0m \u001b[0mtext_columns\u001b[0m\u001b[0;34m]\u001b[0m\u001b[0;34m)\u001b[0m\u001b[0;34m,\u001b[0m \u001b[0maxis\u001b[0m\u001b[0;34m=\u001b[0m\u001b[0;36m1\u001b[0m\u001b[0;34m)\u001b[0m\u001b[0;34m\u001b[0m\u001b[0;34m\u001b[0m\u001b[0m\n",
      "\u001b[0;31mNameError\u001b[0m: name 'text_columns' is not defined"
     ]
    }
   ],
   "source": [
    "MAX_FEATURES = 100\n",
    "NGRAM_RANGE = (1,1)\n",
    "\n",
    "corpus_train = X_train.loc[:, text_columns] \\\n",
    "    .fillna(\"\") \\\n",
    "    .apply(lambda row: \" \".join([row[col] for col in text_columns]), axis=1)\n",
    "\n",
    "corpus_test = X_test.loc[:, text_columns] \\\n",
    "    .fillna(\"\") \\\n",
    "    .apply(lambda row: \" \".join([row[col] for col in text_columns]), axis=1)\n",
    "\n",
    "tf_idf = TfidfVectorizer(stop_words=\"english\", ngram_range=NGRAM_RANGE, max_features=MAX_FEATURES)\n",
    "\n",
    "tf_idf.fit(corpus_train)\n",
    "tf_idf_feature_names = \"tfidf_\" + np.array(tf_idf.get_feature_names(), dtype=object)\n",
    "tf_idf_train = pd.DataFrame(tf_idf.transform(corpus_train).toarray(), columns=tf_idf_feature_names, index=corpus_train.index)\n",
    "tf_idf_test = pd.DataFrame(tf_idf.transform(corpus_test).toarray(), columns=tf_idf_feature_names, index=corpus_test.index)\n",
    "\n",
    "X_train = X_train.drop(text_columns, axis=1).join(tf_idf_train)\n",
    "X_test = X_test.drop(text_columns, axis=1).join(tf_idf_test)\n",
    "X_train.head()"
   ]
  }
 ],
 "metadata": {
  "kernelspec": {
   "display_name": "Python 3 (ipykernel)",
   "language": "python",
   "name": "python3"
  },
  "language_info": {
   "codemirror_mode": {
    "name": "ipython",
    "version": 3
   },
   "file_extension": ".py",
   "mimetype": "text/x-python",
   "name": "python",
   "nbconvert_exporter": "python",
   "pygments_lexer": "ipython3",
   "version": "3.9.7"
  }
 },
 "nbformat": 4,
 "nbformat_minor": 5
}
