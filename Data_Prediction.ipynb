{
 "cells": [
  {
   "cell_type": "markdown",
   "id": "80bbbd23-edec-4da8-856b-6f5c5db5f204",
   "metadata": {},
   "source": [
    "## Import Libraries"
   ]
  },
  {
   "cell_type": "code",
   "execution_count": 1,
   "id": "5d3a9c80-6323-41f0-bc38-9d14d68108fa",
   "metadata": {},
   "outputs": [],
   "source": [
    "import pandas as pd\n",
    "import numpy as np\n",
    "\n",
    "from sklearn.feature_extraction.text import TfidfVectorizer\n",
    "from sklearn import preprocessing\n",
    "from sklearn.model_selection import train_test_split\n",
    "from sklearn.dummy import DummyClassifier\n",
    "from sklearn.ensemble import RandomForestClassifier\n",
    "from sklearn.model_selection import StratifiedKFold\n",
    "from sklearn.model_selection import cross_val_score\n",
    "\n",
    "from imblearn.combine import SMOTETomek"
   ]
  },
  {
   "cell_type": "code",
   "execution_count": 2,
   "id": "c04d954d-0468-4f20-8c21-bb09c8186d28",
   "metadata": {},
   "outputs": [],
   "source": [
    "# Constants\n",
    "FILENAME = \"cleaned_fake_job_postings.csv\"\n",
    "INDEX = \"job_id\"\n",
    "TARGET_VARIABLE = \"fraudulent\"\n",
    "CATEGORICAL_COLUMNS = [\"telecommuting\", \"has_company_logo\", \"has_questions\", \"employment_type\", \"required_experience\", \"required_education\", \"function\", \"fraudulent\"]\n",
    "CORPUS_COLUMN_NAME = \"text\"\n",
    "TFIDF_MAX_FEATURES = 100\n",
    "TFIDF_NGRAM_RANGE = (1,1)\n",
    "RANDOM_STATE = 12345"
   ]
  },
  {
   "cell_type": "markdown",
   "id": "213ab370-66ab-457b-9572-8365d96736b8",
   "metadata": {
    "tags": []
   },
   "source": [
    "## Load data"
   ]
  },
  {
   "cell_type": "code",
   "execution_count": 3,
   "id": "cfc8d471-fda5-439d-9562-f70cdce17919",
   "metadata": {},
   "outputs": [
    {
     "data": {
      "text/html": [
       "<div>\n",
       "<style scoped>\n",
       "    .dataframe tbody tr th:only-of-type {\n",
       "        vertical-align: middle;\n",
       "    }\n",
       "\n",
       "    .dataframe tbody tr th {\n",
       "        vertical-align: top;\n",
       "    }\n",
       "\n",
       "    .dataframe thead th {\n",
       "        text-align: right;\n",
       "    }\n",
       "</style>\n",
       "<table border=\"1\" class=\"dataframe\">\n",
       "  <thead>\n",
       "    <tr style=\"text-align: right;\">\n",
       "      <th></th>\n",
       "      <th>telecommuting</th>\n",
       "      <th>has_company_logo</th>\n",
       "      <th>has_questions</th>\n",
       "      <th>employment_type</th>\n",
       "      <th>required_experience</th>\n",
       "      <th>required_education</th>\n",
       "      <th>function</th>\n",
       "      <th>fraudulent</th>\n",
       "      <th>text</th>\n",
       "    </tr>\n",
       "    <tr>\n",
       "      <th>job_id</th>\n",
       "      <th></th>\n",
       "      <th></th>\n",
       "      <th></th>\n",
       "      <th></th>\n",
       "      <th></th>\n",
       "      <th></th>\n",
       "      <th></th>\n",
       "      <th></th>\n",
       "      <th></th>\n",
       "    </tr>\n",
       "  </thead>\n",
       "  <tbody>\n",
       "    <tr>\n",
       "      <th>1</th>\n",
       "      <td>False</td>\n",
       "      <td>True</td>\n",
       "      <td>False</td>\n",
       "      <td>Other</td>\n",
       "      <td>Junior</td>\n",
       "      <td>NaN</td>\n",
       "      <td>Business</td>\n",
       "      <td>False</td>\n",
       "      <td>marketing intern we're food52 we've created gr...</td>\n",
       "    </tr>\n",
       "    <tr>\n",
       "      <th>2</th>\n",
       "      <td>False</td>\n",
       "      <td>True</td>\n",
       "      <td>False</td>\n",
       "      <td>Full-time</td>\n",
       "      <td>NaN</td>\n",
       "      <td>NaN</td>\n",
       "      <td>Business</td>\n",
       "      <td>False</td>\n",
       "      <td>customer service  cloud video production 90 se...</td>\n",
       "    </tr>\n",
       "    <tr>\n",
       "      <th>3</th>\n",
       "      <td>False</td>\n",
       "      <td>True</td>\n",
       "      <td>False</td>\n",
       "      <td>NaN</td>\n",
       "      <td>NaN</td>\n",
       "      <td>NaN</td>\n",
       "      <td>NaN</td>\n",
       "      <td>False</td>\n",
       "      <td>commissioning machinery assistant cma valor se...</td>\n",
       "    </tr>\n",
       "    <tr>\n",
       "      <th>4</th>\n",
       "      <td>False</td>\n",
       "      <td>True</td>\n",
       "      <td>False</td>\n",
       "      <td>Full-time</td>\n",
       "      <td>Standard</td>\n",
       "      <td>Undergraduate</td>\n",
       "      <td>Business</td>\n",
       "      <td>False</td>\n",
       "      <td>account executive  washington dc passion impro...</td>\n",
       "    </tr>\n",
       "    <tr>\n",
       "      <th>5</th>\n",
       "      <td>False</td>\n",
       "      <td>True</td>\n",
       "      <td>True</td>\n",
       "      <td>Full-time</td>\n",
       "      <td>Standard</td>\n",
       "      <td>Undergraduate</td>\n",
       "      <td>Healthcare</td>\n",
       "      <td>False</td>\n",
       "      <td>bill review manager spotsource solution llc gl...</td>\n",
       "    </tr>\n",
       "  </tbody>\n",
       "</table>\n",
       "</div>"
      ],
      "text/plain": [
       "        telecommuting  has_company_logo  has_questions employment_type  \\\n",
       "job_id                                                                   \n",
       "1               False              True          False           Other   \n",
       "2               False              True          False       Full-time   \n",
       "3               False              True          False             NaN   \n",
       "4               False              True          False       Full-time   \n",
       "5               False              True           True       Full-time   \n",
       "\n",
       "       required_experience required_education    function  fraudulent  \\\n",
       "job_id                                                                  \n",
       "1                   Junior                NaN    Business       False   \n",
       "2                      NaN                NaN    Business       False   \n",
       "3                      NaN                NaN         NaN       False   \n",
       "4                 Standard      Undergraduate    Business       False   \n",
       "5                 Standard      Undergraduate  Healthcare       False   \n",
       "\n",
       "                                                     text  \n",
       "job_id                                                     \n",
       "1       marketing intern we're food52 we've created gr...  \n",
       "2       customer service  cloud video production 90 se...  \n",
       "3       commissioning machinery assistant cma valor se...  \n",
       "4       account executive  washington dc passion impro...  \n",
       "5       bill review manager spotsource solution llc gl...  "
      ]
     },
     "execution_count": 3,
     "metadata": {},
     "output_type": "execute_result"
    }
   ],
   "source": [
    "df = pd.read_csv(FILENAME)\n",
    "df.set_index(INDEX, inplace=True)\n",
    "df.head()"
   ]
  },
  {
   "cell_type": "markdown",
   "id": "e9ef66d6-a4c8-4be4-8f0d-f354b6660981",
   "metadata": {
    "tags": []
   },
   "source": [
    "## Encode Categorical data"
   ]
  },
  {
   "cell_type": "code",
   "execution_count": 4,
   "id": "68262b77-ac0c-4e25-b8b3-ba233abfb3e7",
   "metadata": {},
   "outputs": [
    {
     "data": {
      "text/html": [
       "<div>\n",
       "<style scoped>\n",
       "    .dataframe tbody tr th:only-of-type {\n",
       "        vertical-align: middle;\n",
       "    }\n",
       "\n",
       "    .dataframe tbody tr th {\n",
       "        vertical-align: top;\n",
       "    }\n",
       "\n",
       "    .dataframe thead th {\n",
       "        text-align: right;\n",
       "    }\n",
       "</style>\n",
       "<table border=\"1\" class=\"dataframe\">\n",
       "  <thead>\n",
       "    <tr style=\"text-align: right;\">\n",
       "      <th></th>\n",
       "      <th>telecommuting</th>\n",
       "      <th>has_company_logo</th>\n",
       "      <th>has_questions</th>\n",
       "      <th>employment_type</th>\n",
       "      <th>required_experience</th>\n",
       "      <th>required_education</th>\n",
       "      <th>function</th>\n",
       "      <th>fraudulent</th>\n",
       "      <th>text</th>\n",
       "    </tr>\n",
       "    <tr>\n",
       "      <th>job_id</th>\n",
       "      <th></th>\n",
       "      <th></th>\n",
       "      <th></th>\n",
       "      <th></th>\n",
       "      <th></th>\n",
       "      <th></th>\n",
       "      <th></th>\n",
       "      <th></th>\n",
       "      <th></th>\n",
       "    </tr>\n",
       "  </thead>\n",
       "  <tbody>\n",
       "    <tr>\n",
       "      <th>1</th>\n",
       "      <td>0</td>\n",
       "      <td>1</td>\n",
       "      <td>0</td>\n",
       "      <td>1</td>\n",
       "      <td>0</td>\n",
       "      <td>4</td>\n",
       "      <td>0</td>\n",
       "      <td>0</td>\n",
       "      <td>marketing intern we're food52 we've created gr...</td>\n",
       "    </tr>\n",
       "    <tr>\n",
       "      <th>2</th>\n",
       "      <td>0</td>\n",
       "      <td>1</td>\n",
       "      <td>0</td>\n",
       "      <td>0</td>\n",
       "      <td>3</td>\n",
       "      <td>4</td>\n",
       "      <td>0</td>\n",
       "      <td>0</td>\n",
       "      <td>customer service  cloud video production 90 se...</td>\n",
       "    </tr>\n",
       "    <tr>\n",
       "      <th>3</th>\n",
       "      <td>0</td>\n",
       "      <td>1</td>\n",
       "      <td>0</td>\n",
       "      <td>3</td>\n",
       "      <td>3</td>\n",
       "      <td>4</td>\n",
       "      <td>10</td>\n",
       "      <td>0</td>\n",
       "      <td>commissioning machinery assistant cma valor se...</td>\n",
       "    </tr>\n",
       "    <tr>\n",
       "      <th>4</th>\n",
       "      <td>0</td>\n",
       "      <td>1</td>\n",
       "      <td>0</td>\n",
       "      <td>0</td>\n",
       "      <td>2</td>\n",
       "      <td>3</td>\n",
       "      <td>0</td>\n",
       "      <td>0</td>\n",
       "      <td>account executive  washington dc passion impro...</td>\n",
       "    </tr>\n",
       "    <tr>\n",
       "      <th>5</th>\n",
       "      <td>0</td>\n",
       "      <td>1</td>\n",
       "      <td>1</td>\n",
       "      <td>0</td>\n",
       "      <td>2</td>\n",
       "      <td>3</td>\n",
       "      <td>5</td>\n",
       "      <td>0</td>\n",
       "      <td>bill review manager spotsource solution llc gl...</td>\n",
       "    </tr>\n",
       "  </tbody>\n",
       "</table>\n",
       "</div>"
      ],
      "text/plain": [
       "        telecommuting  has_company_logo  has_questions  employment_type  \\\n",
       "job_id                                                                    \n",
       "1                   0                 1              0                1   \n",
       "2                   0                 1              0                0   \n",
       "3                   0                 1              0                3   \n",
       "4                   0                 1              0                0   \n",
       "5                   0                 1              1                0   \n",
       "\n",
       "        required_experience  required_education  function  fraudulent  \\\n",
       "job_id                                                                  \n",
       "1                         0                   4         0           0   \n",
       "2                         3                   4         0           0   \n",
       "3                         3                   4        10           0   \n",
       "4                         2                   3         0           0   \n",
       "5                         2                   3         5           0   \n",
       "\n",
       "                                                     text  \n",
       "job_id                                                     \n",
       "1       marketing intern we're food52 we've created gr...  \n",
       "2       customer service  cloud video production 90 se...  \n",
       "3       commissioning machinery assistant cma valor se...  \n",
       "4       account executive  washington dc passion impro...  \n",
       "5       bill review manager spotsource solution llc gl...  "
      ]
     },
     "execution_count": 4,
     "metadata": {},
     "output_type": "execute_result"
    }
   ],
   "source": [
    "encoders = {}\n",
    "\n",
    "for col in CATEGORICAL_COLUMNS:    \n",
    "    le = preprocessing.LabelEncoder()\n",
    "    df.loc[:, col] = le.fit_transform(df[col])\n",
    "    encoders[col] = le\n",
    "\n",
    "df.head()"
   ]
  },
  {
   "cell_type": "markdown",
   "id": "110347a8-f472-4ac6-a9d4-d9fed71d2333",
   "metadata": {
    "tags": []
   },
   "source": [
    "## Baseline Classifier"
   ]
  },
  {
   "cell_type": "code",
   "execution_count": 5,
   "id": "a914fe37-8d91-4960-9781-ed22d3cc5fe0",
   "metadata": {},
   "outputs": [
    {
     "data": {
      "text/plain": [
       "0.9516778523489933"
      ]
     },
     "execution_count": 5,
     "metadata": {},
     "output_type": "execute_result"
    }
   ],
   "source": [
    "X = df.drop(TARGET_VARIABLE, axis=1)\n",
    "y = df.loc[:, TARGET_VARIABLE]\n",
    "X_train, X_test, y_train, y_test = train_test_split(X, y, test_size=0.25, stratify=y, random_state=RANDOM_STATE)\n",
    "\n",
    "bc = DummyClassifier(strategy=\"most_frequent\")\n",
    "bc.fit(X_train, y_train)\n",
    "bc.score(X_test, y_test)"
   ]
  },
  {
   "cell_type": "markdown",
   "id": "a33c5a78-8bb7-40c2-9c18-c926973d77cb",
   "metadata": {
    "tags": []
   },
   "source": [
    "## Random Forest Classification"
   ]
  },
  {
   "cell_type": "markdown",
   "id": "2a800a5f-7a25-4423-b429-cefefd0bbdfa",
   "metadata": {},
   "source": [
    "### TF-IDF Feature Extraction"
   ]
  },
  {
   "cell_type": "code",
   "execution_count": 6,
   "id": "959823e6-2c9c-4262-bc47-04d6649d2ba6",
   "metadata": {},
   "outputs": [],
   "source": [
    "X = df.drop(TARGET_VARIABLE, axis=1)\n",
    "y = df.loc[:, TARGET_VARIABLE]\n",
    "\n",
    "tf_idf = TfidfVectorizer(stop_words=\"english\", ngram_range=TFIDF_NGRAM_RANGE, max_features=TFIDF_MAX_FEATURES)\n",
    "tf_idf.fit(X[CORPUS_COLUMN_NAME])\n",
    "tf_idf_feature_names = \"tfidf_\" + np.array(tf_idf.get_feature_names(), dtype=object)\n",
    "tf_idf_features = pd.DataFrame(tf_idf.transform(X[CORPUS_COLUMN_NAME]).toarray(), columns=tf_idf_feature_names, index=X.index)\n",
    "X = X.drop(CORPUS_COLUMN_NAME, axis=1).join(tf_idf_features)"
   ]
  },
  {
   "cell_type": "markdown",
   "id": "16d9b07f-adda-4eb3-aebe-2d4bbd86ddb5",
   "metadata": {},
   "source": [
    "### Random Forest Classification without Synthetic Minority Oversampling Technique (SMOTE)"
   ]
  },
  {
   "cell_type": "code",
   "execution_count": 7,
   "id": "5d4d41ab-528d-4e18-a95a-f4966a554a21",
   "metadata": {},
   "outputs": [
    {
     "data": {
      "text/plain": [
       "array([0.97035794, 0.9753915 , 0.97147651, 0.97762864, 0.97315436,\n",
       "       0.9753915 , 0.97147651, 0.96979866, 0.97147651, 0.97706935])"
      ]
     },
     "execution_count": 7,
     "metadata": {},
     "output_type": "execute_result"
    }
   ],
   "source": [
    "skf = StratifiedKFold(n_splits=10, random_state=RANDOM_STATE, shuffle=True)\n",
    "rfc = RandomForestClassifier(n_estimators=100, criterion=\"entropy\")\n",
    "scores = cross_val_score(rfc, X, y, scoring='accuracy', cv=skf, n_jobs=-1)\n",
    "scores"
   ]
  },
  {
   "cell_type": "code",
   "execution_count": 8,
   "id": "e1f885c0-ec8d-42a0-9d0c-2706b6c28186",
   "metadata": {},
   "outputs": [
    {
     "data": {
      "text/plain": [
       "0.9733221476510068"
      ]
     },
     "execution_count": 8,
     "metadata": {},
     "output_type": "execute_result"
    }
   ],
   "source": [
    "scores.mean()"
   ]
  },
  {
   "cell_type": "markdown",
   "id": "4e127891-f86e-4d5c-8b2e-8f6780100a23",
   "metadata": {},
   "source": [
    "### Random Forest Classification with SMOTE"
   ]
  },
  {
   "cell_type": "code",
   "execution_count": 9,
   "id": "a2f89c74-edcc-4efa-b4f1-9591fc0b3580",
   "metadata": {},
   "outputs": [],
   "source": [
    "smt = SMOTETomek(random_state=RANDOM_STATE)\n",
    "X_res, y_res = smt.fit_resample(X, y)"
   ]
  },
  {
   "cell_type": "code",
   "execution_count": 10,
   "id": "e57703ad-4815-4bdc-a7ef-a03524af7c37",
   "metadata": {},
   "outputs": [
    {
     "data": {
      "text/plain": [
       "array([0.99471055, 0.99265354, 0.9929474 , 0.99559212, 0.99324126,\n",
       "       0.99500441, 0.99559212, 0.99441669, 0.99323927, 0.99500294])"
      ]
     },
     "execution_count": 10,
     "metadata": {},
     "output_type": "execute_result"
    }
   ],
   "source": [
    "skf = StratifiedKFold(n_splits=10, random_state=RANDOM_STATE, shuffle=True)\n",
    "rfc = RandomForestClassifier(n_estimators=100, criterion=\"entropy\")\n",
    "scores = cross_val_score(rfc, X_res, y_res, scoring='accuracy', cv=skf, n_jobs=-1)\n",
    "scores"
   ]
  },
  {
   "cell_type": "code",
   "execution_count": 11,
   "id": "858ca4f2-3917-4f26-bda8-5daefb2b389a",
   "metadata": {},
   "outputs": [
    {
     "data": {
      "text/plain": [
       "0.9942400306262258"
      ]
     },
     "execution_count": 11,
     "metadata": {},
     "output_type": "execute_result"
    }
   ],
   "source": [
    "scores.mean()"
   ]
  }
 ],
 "metadata": {
  "kernelspec": {
   "display_name": "Python 3 (ipykernel)",
   "language": "python",
   "name": "python3"
  },
  "language_info": {
   "codemirror_mode": {
    "name": "ipython",
    "version": 3
   },
   "file_extension": ".py",
   "mimetype": "text/x-python",
   "name": "python",
   "nbconvert_exporter": "python",
   "pygments_lexer": "ipython3",
   "version": "3.9.7"
  }
 },
 "nbformat": 4,
 "nbformat_minor": 5
}
