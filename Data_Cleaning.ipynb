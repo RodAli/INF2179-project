{
 "cells": [
  {
   "cell_type": "markdown",
   "id": "5e6efd1a-24da-4b80-9675-bf75c4cd6581",
   "metadata": {
    "tags": []
   },
   "source": [
    "TODO:\n",
    "- Add meaningful colors to the plots\n",
    "- Rename labels"
   ]
  },
  {
   "cell_type": "markdown",
   "id": "37e85265-05da-4856-a255-32071fc103d0",
   "metadata": {},
   "source": [
    "### Import Libraries"
   ]
  },
  {
   "cell_type": "code",
   "execution_count": 97,
   "id": "7ffa672c-2470-4fd4-84c8-e7d5f6746656",
   "metadata": {},
   "outputs": [],
   "source": [
    "import pandas as pd\n",
    "import numpy as np"
   ]
  },
  {
   "cell_type": "markdown",
   "id": "494aaec4-cd8e-4027-8abf-8101745b5f2d",
   "metadata": {},
   "source": [
    "### Load Data"
   ]
  },
  {
   "cell_type": "code",
   "execution_count": 98,
   "id": "ce402646-99cb-4f40-a40f-2b099d420d44",
   "metadata": {},
   "outputs": [
    {
     "name": "stdout",
     "output_type": "stream",
     "text": [
      "<class 'pandas.core.frame.DataFrame'>\n",
      "RangeIndex: 17880 entries, 0 to 17879\n",
      "Data columns (total 18 columns):\n",
      " #   Column               Non-Null Count  Dtype \n",
      "---  ------               --------------  ----- \n",
      " 0   job_id               17880 non-null  int64 \n",
      " 1   title                17880 non-null  object\n",
      " 2   location             17534 non-null  object\n",
      " 3   department           6333 non-null   object\n",
      " 4   salary_range         2868 non-null   object\n",
      " 5   company_profile      14572 non-null  object\n",
      " 6   description          17879 non-null  object\n",
      " 7   requirements         15185 non-null  object\n",
      " 8   benefits             10670 non-null  object\n",
      " 9   telecommuting        17880 non-null  int64 \n",
      " 10  has_company_logo     17880 non-null  int64 \n",
      " 11  has_questions        17880 non-null  int64 \n",
      " 12  employment_type      14409 non-null  object\n",
      " 13  required_experience  10830 non-null  object\n",
      " 14  required_education   9775 non-null   object\n",
      " 15  industry             12977 non-null  object\n",
      " 16  function             11425 non-null  object\n",
      " 17  fraudulent           17880 non-null  int64 \n",
      "dtypes: int64(5), object(13)\n",
      "memory usage: 2.5+ MB\n"
     ]
    },
    {
     "data": {
      "text/html": [
       "<div>\n",
       "<style scoped>\n",
       "    .dataframe tbody tr th:only-of-type {\n",
       "        vertical-align: middle;\n",
       "    }\n",
       "\n",
       "    .dataframe tbody tr th {\n",
       "        vertical-align: top;\n",
       "    }\n",
       "\n",
       "    .dataframe thead th {\n",
       "        text-align: right;\n",
       "    }\n",
       "</style>\n",
       "<table border=\"1\" class=\"dataframe\">\n",
       "  <thead>\n",
       "    <tr style=\"text-align: right;\">\n",
       "      <th></th>\n",
       "      <th>job_id</th>\n",
       "      <th>title</th>\n",
       "      <th>location</th>\n",
       "      <th>department</th>\n",
       "      <th>salary_range</th>\n",
       "      <th>company_profile</th>\n",
       "      <th>description</th>\n",
       "      <th>requirements</th>\n",
       "      <th>benefits</th>\n",
       "      <th>telecommuting</th>\n",
       "      <th>has_company_logo</th>\n",
       "      <th>has_questions</th>\n",
       "      <th>employment_type</th>\n",
       "      <th>required_experience</th>\n",
       "      <th>required_education</th>\n",
       "      <th>industry</th>\n",
       "      <th>function</th>\n",
       "      <th>fraudulent</th>\n",
       "    </tr>\n",
       "  </thead>\n",
       "  <tbody>\n",
       "    <tr>\n",
       "      <th>0</th>\n",
       "      <td>1</td>\n",
       "      <td>Marketing Intern</td>\n",
       "      <td>US, NY, New York</td>\n",
       "      <td>Marketing</td>\n",
       "      <td>NaN</td>\n",
       "      <td>We're Food52, and we've created a groundbreaki...</td>\n",
       "      <td>Food52, a fast-growing, James Beard Award-winn...</td>\n",
       "      <td>Experience with content management systems a m...</td>\n",
       "      <td>NaN</td>\n",
       "      <td>0</td>\n",
       "      <td>1</td>\n",
       "      <td>0</td>\n",
       "      <td>Other</td>\n",
       "      <td>Internship</td>\n",
       "      <td>NaN</td>\n",
       "      <td>NaN</td>\n",
       "      <td>Marketing</td>\n",
       "      <td>0</td>\n",
       "    </tr>\n",
       "    <tr>\n",
       "      <th>1</th>\n",
       "      <td>2</td>\n",
       "      <td>Customer Service - Cloud Video Production</td>\n",
       "      <td>NZ, , Auckland</td>\n",
       "      <td>Success</td>\n",
       "      <td>NaN</td>\n",
       "      <td>90 Seconds, the worlds Cloud Video Production ...</td>\n",
       "      <td>Organised - Focused - Vibrant - Awesome!Do you...</td>\n",
       "      <td>What we expect from you:Your key responsibilit...</td>\n",
       "      <td>What you will get from usThrough being part of...</td>\n",
       "      <td>0</td>\n",
       "      <td>1</td>\n",
       "      <td>0</td>\n",
       "      <td>Full-time</td>\n",
       "      <td>Not Applicable</td>\n",
       "      <td>NaN</td>\n",
       "      <td>Marketing and Advertising</td>\n",
       "      <td>Customer Service</td>\n",
       "      <td>0</td>\n",
       "    </tr>\n",
       "    <tr>\n",
       "      <th>2</th>\n",
       "      <td>3</td>\n",
       "      <td>Commissioning Machinery Assistant (CMA)</td>\n",
       "      <td>US, IA, Wever</td>\n",
       "      <td>NaN</td>\n",
       "      <td>NaN</td>\n",
       "      <td>Valor Services provides Workforce Solutions th...</td>\n",
       "      <td>Our client, located in Houston, is actively se...</td>\n",
       "      <td>Implement pre-commissioning and commissioning ...</td>\n",
       "      <td>NaN</td>\n",
       "      <td>0</td>\n",
       "      <td>1</td>\n",
       "      <td>0</td>\n",
       "      <td>NaN</td>\n",
       "      <td>NaN</td>\n",
       "      <td>NaN</td>\n",
       "      <td>NaN</td>\n",
       "      <td>NaN</td>\n",
       "      <td>0</td>\n",
       "    </tr>\n",
       "    <tr>\n",
       "      <th>3</th>\n",
       "      <td>4</td>\n",
       "      <td>Account Executive - Washington DC</td>\n",
       "      <td>US, DC, Washington</td>\n",
       "      <td>Sales</td>\n",
       "      <td>NaN</td>\n",
       "      <td>Our passion for improving quality of life thro...</td>\n",
       "      <td>THE COMPANY: ESRI – Environmental Systems Rese...</td>\n",
       "      <td>EDUCATION: Bachelor’s or Master’s in GIS, busi...</td>\n",
       "      <td>Our culture is anything but corporate—we have ...</td>\n",
       "      <td>0</td>\n",
       "      <td>1</td>\n",
       "      <td>0</td>\n",
       "      <td>Full-time</td>\n",
       "      <td>Mid-Senior level</td>\n",
       "      <td>Bachelor's Degree</td>\n",
       "      <td>Computer Software</td>\n",
       "      <td>Sales</td>\n",
       "      <td>0</td>\n",
       "    </tr>\n",
       "    <tr>\n",
       "      <th>4</th>\n",
       "      <td>5</td>\n",
       "      <td>Bill Review Manager</td>\n",
       "      <td>US, FL, Fort Worth</td>\n",
       "      <td>NaN</td>\n",
       "      <td>NaN</td>\n",
       "      <td>SpotSource Solutions LLC is a Global Human Cap...</td>\n",
       "      <td>JOB TITLE: Itemization Review ManagerLOCATION:...</td>\n",
       "      <td>QUALIFICATIONS:RN license in the State of Texa...</td>\n",
       "      <td>Full Benefits Offered</td>\n",
       "      <td>0</td>\n",
       "      <td>1</td>\n",
       "      <td>1</td>\n",
       "      <td>Full-time</td>\n",
       "      <td>Mid-Senior level</td>\n",
       "      <td>Bachelor's Degree</td>\n",
       "      <td>Hospital &amp; Health Care</td>\n",
       "      <td>Health Care Provider</td>\n",
       "      <td>0</td>\n",
       "    </tr>\n",
       "  </tbody>\n",
       "</table>\n",
       "</div>"
      ],
      "text/plain": [
       "   job_id                                      title            location  \\\n",
       "0       1                           Marketing Intern    US, NY, New York   \n",
       "1       2  Customer Service - Cloud Video Production      NZ, , Auckland   \n",
       "2       3    Commissioning Machinery Assistant (CMA)       US, IA, Wever   \n",
       "3       4          Account Executive - Washington DC  US, DC, Washington   \n",
       "4       5                        Bill Review Manager  US, FL, Fort Worth   \n",
       "\n",
       "  department salary_range                                    company_profile  \\\n",
       "0  Marketing          NaN  We're Food52, and we've created a groundbreaki...   \n",
       "1    Success          NaN  90 Seconds, the worlds Cloud Video Production ...   \n",
       "2        NaN          NaN  Valor Services provides Workforce Solutions th...   \n",
       "3      Sales          NaN  Our passion for improving quality of life thro...   \n",
       "4        NaN          NaN  SpotSource Solutions LLC is a Global Human Cap...   \n",
       "\n",
       "                                         description  \\\n",
       "0  Food52, a fast-growing, James Beard Award-winn...   \n",
       "1  Organised - Focused - Vibrant - Awesome!Do you...   \n",
       "2  Our client, located in Houston, is actively se...   \n",
       "3  THE COMPANY: ESRI – Environmental Systems Rese...   \n",
       "4  JOB TITLE: Itemization Review ManagerLOCATION:...   \n",
       "\n",
       "                                        requirements  \\\n",
       "0  Experience with content management systems a m...   \n",
       "1  What we expect from you:Your key responsibilit...   \n",
       "2  Implement pre-commissioning and commissioning ...   \n",
       "3  EDUCATION: Bachelor’s or Master’s in GIS, busi...   \n",
       "4  QUALIFICATIONS:RN license in the State of Texa...   \n",
       "\n",
       "                                            benefits  telecommuting  \\\n",
       "0                                                NaN              0   \n",
       "1  What you will get from usThrough being part of...              0   \n",
       "2                                                NaN              0   \n",
       "3  Our culture is anything but corporate—we have ...              0   \n",
       "4                              Full Benefits Offered              0   \n",
       "\n",
       "   has_company_logo  has_questions employment_type required_experience  \\\n",
       "0                 1              0           Other          Internship   \n",
       "1                 1              0       Full-time      Not Applicable   \n",
       "2                 1              0             NaN                 NaN   \n",
       "3                 1              0       Full-time    Mid-Senior level   \n",
       "4                 1              1       Full-time    Mid-Senior level   \n",
       "\n",
       "  required_education                   industry              function  \\\n",
       "0                NaN                        NaN             Marketing   \n",
       "1                NaN  Marketing and Advertising      Customer Service   \n",
       "2                NaN                        NaN                   NaN   \n",
       "3  Bachelor's Degree          Computer Software                 Sales   \n",
       "4  Bachelor's Degree     Hospital & Health Care  Health Care Provider   \n",
       "\n",
       "   fraudulent  \n",
       "0           0  \n",
       "1           0  \n",
       "2           0  \n",
       "3           0  \n",
       "4           0  "
      ]
     },
     "execution_count": 98,
     "metadata": {},
     "output_type": "execute_result"
    }
   ],
   "source": [
    "FILENAME = \"fake_job_postings.csv\"\n",
    "INDEX = \"job_id\"\n",
    "\n",
    "df = pd.read_csv(FILENAME)\n",
    "df.info()\n",
    "df.head()"
   ]
  },
  {
   "cell_type": "markdown",
   "id": "2775be42-96f2-4b3b-ab40-8255bca4dae5",
   "metadata": {},
   "source": [
    "### Clean Data"
   ]
  },
  {
   "cell_type": "markdown",
   "id": "401b72bf-4c87-4c37-83a6-8655aa74883d",
   "metadata": {},
   "source": [
    "#### Index"
   ]
  },
  {
   "cell_type": "code",
   "execution_count": 99,
   "id": "939ce73a-6243-4d6d-af7f-fc91aec59587",
   "metadata": {},
   "outputs": [],
   "source": [
    "# Set index\n",
    "df.set_index(INDEX, inplace=True)"
   ]
  },
  {
   "cell_type": "markdown",
   "id": "ea7da14f-37c0-45d9-a966-04a6c6f24fc5",
   "metadata": {},
   "source": [
    "#### Drop columns"
   ]
  },
  {
   "cell_type": "code",
   "execution_count": 100,
   "id": "97590c2f-640a-46d9-8371-9ddb1423138b",
   "metadata": {},
   "outputs": [],
   "source": [
    "columns_to_drop = [\"location\", \"department\", \"salary_range\", \"industry\"]\n",
    "df.drop(columns_to_drop, axis=1, inplace=True)"
   ]
  },
  {
   "cell_type": "markdown",
   "id": "8208f7b9-7fcc-47c9-a215-b76f595acb44",
   "metadata": {},
   "source": [
    "#### Binary columns"
   ]
  },
  {
   "cell_type": "code",
   "execution_count": 101,
   "id": "9178b721-7327-4aea-8f8c-41d45cad1880",
   "metadata": {},
   "outputs": [],
   "source": [
    "# Convert binary columns to boolean\n",
    "bool_columns = [\"telecommuting\", \"has_company_logo\", \"has_questions\", \"fraudulent\"]\n",
    "df[bool_columns] = df[bool_columns].astype(\"bool\")"
   ]
  },
  {
   "cell_type": "markdown",
   "id": "1490bced-696c-432e-b095-d9163fae3c19",
   "metadata": {},
   "source": [
    "#### Employment type"
   ]
  },
  {
   "cell_type": "code",
   "execution_count": 102,
   "id": "a4148b2a-0404-4697-9c8c-4cdb12db10b3",
   "metadata": {},
   "outputs": [],
   "source": [
    "FULL_TIME = \"Full-time\"\n",
    "PART_TIME = \"Part-time\"\n",
    "OTHER = \"Other\"\n",
    "\n",
    "# Map employment type values\n",
    "df[\"employment_type\"] = df[\"employment_type\"].map({\n",
    "    \"Full-time\": FULL_TIME,\n",
    "    \"Part-time\": PART_TIME,\n",
    "    \"Other\": OTHER,\n",
    "    \"Contract\": OTHER,\n",
    "    \"Temporary\": OTHER,\n",
    "})"
   ]
  },
  {
   "cell_type": "markdown",
   "id": "ddb330a8-92b8-4b65-8af7-180dc85e0555",
   "metadata": {},
   "source": [
    "#### Required experience"
   ]
  },
  {
   "cell_type": "code",
   "execution_count": 103,
   "id": "ea344bba-7ecd-40e4-bbfc-2a8a452102ee",
   "metadata": {},
   "outputs": [],
   "source": [
    "JUNIOR = \"Junior\"\n",
    "STANDARD = \"Standard\"\n",
    "SENIOR = \"Senior\"\n",
    "\n",
    "# Map required experience values\n",
    "df[\"required_experience\"] = df[\"required_experience\"].map({\n",
    "    \"Internship\": JUNIOR,\n",
    "    \"Not Applicable\": np.nan,\n",
    "    \"Mid-Senior level\": STANDARD,\n",
    "    \"Associate\": STANDARD,\n",
    "    \"Entry level\": JUNIOR,\n",
    "    \"Executive\": SENIOR,\n",
    "    \"Director\": SENIOR\n",
    "})"
   ]
  },
  {
   "cell_type": "markdown",
   "id": "315efdd1-23df-495c-9530-fe8239f84e2e",
   "metadata": {},
   "source": [
    "#### Required education"
   ]
  },
  {
   "cell_type": "code",
   "execution_count": 104,
   "id": "37c6438b-d089-4129-b1bf-71466700322d",
   "metadata": {},
   "outputs": [],
   "source": [
    "HIGHSCHOOL = \"Highschool\"\n",
    "UNDERGRADUATE = \"Undergraduate\"\n",
    "POSTGRADUATE = \"Postgraduate\"\n",
    "Other = \"Other\"\n",
    "\n",
    "df[\"required_education\"] = df[\"required_education\"].map({\n",
    "    \"Bachelor's Degree\": UNDERGRADUATE, \n",
    "    \"Master's Degree\": POSTGRADUATE,\n",
    "    'High School or equivalent': HIGHSCHOOL, \n",
    "    'Unspecified': np.nan,\n",
    "    'Some College Coursework Completed': HIGHSCHOOL, \n",
    "    'Vocational': OTHER, \n",
    "    'Certification': OTHER,\n",
    "    'Associate Degree': UNDERGRADUATE, \n",
    "    'Professional': OTHER, \n",
    "    'Doctorate': POSTGRADUATE,\n",
    "    'Some High School Coursework': HIGHSCHOOL, \n",
    "    'Vocational - Degree': OTHER,\n",
    "    'Vocational - HS Diploma': OTHER\n",
    "})"
   ]
  },
  {
   "cell_type": "markdown",
   "id": "de605091-b7c2-42c1-8760-d6568420ca62",
   "metadata": {},
   "source": [
    "#### Function"
   ]
  },
  {
   "cell_type": "code",
   "execution_count": 108,
   "id": "f54bae2b-c458-43ee-8a9f-6c05acf35899",
   "metadata": {},
   "outputs": [],
   "source": [
    "BUSINESS = \"Business\"\n",
    "HEALTHCARE = \"Healthcare\"\n",
    "INFORMATION_TECHNOLOGY = \"Information Technology\"\n",
    "ENGINEERING = \"Engineering\"\n",
    "DESIGN = \"Design\"\n",
    "EDUCATION = \"Education\"\n",
    "FINANCE = \"Finance\"\n",
    "SCIENCE = \"Science\"\n",
    "LEGAL = \"Legal\"\n",
    "OTHER = \"Other\"\n",
    "\n",
    "df[\"function\"] = df[\"function\"].map({\n",
    "    'Marketing': BUSINESS, \n",
    "    'Customer Service': BUSINESS, \n",
    "    'Sales': BUSINESS,\n",
    "    'Health Care Provider': HEALTHCARE, \n",
    "    'Management': BUSINESS, \n",
    "    'Information Technology': INFORMATION_TECHNOLOGY,\n",
    "    'Other': OTHER, \n",
    "    'Engineering': ENGINEERING, \n",
    "    'Administrative': BUSINESS, \n",
    "    'Design': DESIGN, \n",
    "    'Production': BUSINESS,\n",
    "    'Education': EDUCATION, \n",
    "    'Supply Chain': BUSINESS, \n",
    "    'Business Development': BUSINESS,\n",
    "    'Product Management': BUSINESS, \n",
    "    'Financial Analyst': FINANCE, \n",
    "    'Consulting': BUSINESS,\n",
    "    'Human Resources': BUSINESS, \n",
    "    'Project Management': BUSINESS, \n",
    "    'Manufacturing': BUSINESS,\n",
    "    'Public Relations': BUSINESS, \n",
    "    'Strategy/Planning': BUSINESS, \n",
    "    'Advertising': BUSINESS, \n",
    "    'Finance': FINANCE,\n",
    "    'General Business': BUSINESS, \n",
    "    'Research': OTHER, \n",
    "    'Accounting/Auditing': FINANCE,\n",
    "    'Art/Creative': DESIGN, \n",
    "    'Quality Assurance': INFORMATION_TECHNOLOGY, \n",
    "    'Data Analyst': INFORMATION_TECHNOLOGY,\n",
    "    'Business Analyst': BUSINESS, \n",
    "    'Writing/Editing': DESIGN, \n",
    "    'Distribution': BUSINESS, \n",
    "    'Science': SCIENCE,\n",
    "    'Training': OTHER, \n",
    "    'Purchasing': BUSINESS, \n",
    "    'Legal': LEGAL\n",
    "})"
   ]
  },
  {
   "cell_type": "markdown",
   "id": "3cf93f06-7e84-424c-a244-83f6bdeb70e8",
   "metadata": {},
   "source": [
    "### Export Data"
   ]
  },
  {
   "cell_type": "code",
   "execution_count": 109,
   "id": "a694db05-9175-4f57-92e4-eb3741c8f8c4",
   "metadata": {},
   "outputs": [
    {
     "data": {
      "text/html": [
       "<div>\n",
       "<style scoped>\n",
       "    .dataframe tbody tr th:only-of-type {\n",
       "        vertical-align: middle;\n",
       "    }\n",
       "\n",
       "    .dataframe tbody tr th {\n",
       "        vertical-align: top;\n",
       "    }\n",
       "\n",
       "    .dataframe thead th {\n",
       "        text-align: right;\n",
       "    }\n",
       "</style>\n",
       "<table border=\"1\" class=\"dataframe\">\n",
       "  <thead>\n",
       "    <tr style=\"text-align: right;\">\n",
       "      <th></th>\n",
       "      <th>title</th>\n",
       "      <th>company_profile</th>\n",
       "      <th>description</th>\n",
       "      <th>requirements</th>\n",
       "      <th>benefits</th>\n",
       "      <th>telecommuting</th>\n",
       "      <th>has_company_logo</th>\n",
       "      <th>has_questions</th>\n",
       "      <th>employment_type</th>\n",
       "      <th>required_experience</th>\n",
       "      <th>required_education</th>\n",
       "      <th>function</th>\n",
       "      <th>fraudulent</th>\n",
       "    </tr>\n",
       "    <tr>\n",
       "      <th>job_id</th>\n",
       "      <th></th>\n",
       "      <th></th>\n",
       "      <th></th>\n",
       "      <th></th>\n",
       "      <th></th>\n",
       "      <th></th>\n",
       "      <th></th>\n",
       "      <th></th>\n",
       "      <th></th>\n",
       "      <th></th>\n",
       "      <th></th>\n",
       "      <th></th>\n",
       "      <th></th>\n",
       "    </tr>\n",
       "  </thead>\n",
       "  <tbody>\n",
       "    <tr>\n",
       "      <th>1</th>\n",
       "      <td>Marketing Intern</td>\n",
       "      <td>We're Food52, and we've created a groundbreaki...</td>\n",
       "      <td>Food52, a fast-growing, James Beard Award-winn...</td>\n",
       "      <td>Experience with content management systems a m...</td>\n",
       "      <td>NaN</td>\n",
       "      <td>False</td>\n",
       "      <td>True</td>\n",
       "      <td>False</td>\n",
       "      <td>Other</td>\n",
       "      <td>Junior</td>\n",
       "      <td>NaN</td>\n",
       "      <td>Business</td>\n",
       "      <td>False</td>\n",
       "    </tr>\n",
       "    <tr>\n",
       "      <th>2</th>\n",
       "      <td>Customer Service - Cloud Video Production</td>\n",
       "      <td>90 Seconds, the worlds Cloud Video Production ...</td>\n",
       "      <td>Organised - Focused - Vibrant - Awesome!Do you...</td>\n",
       "      <td>What we expect from you:Your key responsibilit...</td>\n",
       "      <td>What you will get from usThrough being part of...</td>\n",
       "      <td>False</td>\n",
       "      <td>True</td>\n",
       "      <td>False</td>\n",
       "      <td>Full-time</td>\n",
       "      <td>NaN</td>\n",
       "      <td>NaN</td>\n",
       "      <td>Business</td>\n",
       "      <td>False</td>\n",
       "    </tr>\n",
       "    <tr>\n",
       "      <th>3</th>\n",
       "      <td>Commissioning Machinery Assistant (CMA)</td>\n",
       "      <td>Valor Services provides Workforce Solutions th...</td>\n",
       "      <td>Our client, located in Houston, is actively se...</td>\n",
       "      <td>Implement pre-commissioning and commissioning ...</td>\n",
       "      <td>NaN</td>\n",
       "      <td>False</td>\n",
       "      <td>True</td>\n",
       "      <td>False</td>\n",
       "      <td>NaN</td>\n",
       "      <td>NaN</td>\n",
       "      <td>NaN</td>\n",
       "      <td>NaN</td>\n",
       "      <td>False</td>\n",
       "    </tr>\n",
       "    <tr>\n",
       "      <th>4</th>\n",
       "      <td>Account Executive - Washington DC</td>\n",
       "      <td>Our passion for improving quality of life thro...</td>\n",
       "      <td>THE COMPANY: ESRI – Environmental Systems Rese...</td>\n",
       "      <td>EDUCATION: Bachelor’s or Master’s in GIS, busi...</td>\n",
       "      <td>Our culture is anything but corporate—we have ...</td>\n",
       "      <td>False</td>\n",
       "      <td>True</td>\n",
       "      <td>False</td>\n",
       "      <td>Full-time</td>\n",
       "      <td>Standard</td>\n",
       "      <td>Undergraduate</td>\n",
       "      <td>Business</td>\n",
       "      <td>False</td>\n",
       "    </tr>\n",
       "    <tr>\n",
       "      <th>5</th>\n",
       "      <td>Bill Review Manager</td>\n",
       "      <td>SpotSource Solutions LLC is a Global Human Cap...</td>\n",
       "      <td>JOB TITLE: Itemization Review ManagerLOCATION:...</td>\n",
       "      <td>QUALIFICATIONS:RN license in the State of Texa...</td>\n",
       "      <td>Full Benefits Offered</td>\n",
       "      <td>False</td>\n",
       "      <td>True</td>\n",
       "      <td>True</td>\n",
       "      <td>Full-time</td>\n",
       "      <td>Standard</td>\n",
       "      <td>Undergraduate</td>\n",
       "      <td>Healthcare</td>\n",
       "      <td>False</td>\n",
       "    </tr>\n",
       "  </tbody>\n",
       "</table>\n",
       "</div>"
      ],
      "text/plain": [
       "                                            title  \\\n",
       "job_id                                              \n",
       "1                                Marketing Intern   \n",
       "2       Customer Service - Cloud Video Production   \n",
       "3         Commissioning Machinery Assistant (CMA)   \n",
       "4               Account Executive - Washington DC   \n",
       "5                             Bill Review Manager   \n",
       "\n",
       "                                          company_profile  \\\n",
       "job_id                                                      \n",
       "1       We're Food52, and we've created a groundbreaki...   \n",
       "2       90 Seconds, the worlds Cloud Video Production ...   \n",
       "3       Valor Services provides Workforce Solutions th...   \n",
       "4       Our passion for improving quality of life thro...   \n",
       "5       SpotSource Solutions LLC is a Global Human Cap...   \n",
       "\n",
       "                                              description  \\\n",
       "job_id                                                      \n",
       "1       Food52, a fast-growing, James Beard Award-winn...   \n",
       "2       Organised - Focused - Vibrant - Awesome!Do you...   \n",
       "3       Our client, located in Houston, is actively se...   \n",
       "4       THE COMPANY: ESRI – Environmental Systems Rese...   \n",
       "5       JOB TITLE: Itemization Review ManagerLOCATION:...   \n",
       "\n",
       "                                             requirements  \\\n",
       "job_id                                                      \n",
       "1       Experience with content management systems a m...   \n",
       "2       What we expect from you:Your key responsibilit...   \n",
       "3       Implement pre-commissioning and commissioning ...   \n",
       "4       EDUCATION: Bachelor’s or Master’s in GIS, busi...   \n",
       "5       QUALIFICATIONS:RN license in the State of Texa...   \n",
       "\n",
       "                                                 benefits  telecommuting  \\\n",
       "job_id                                                                     \n",
       "1                                                     NaN          False   \n",
       "2       What you will get from usThrough being part of...          False   \n",
       "3                                                     NaN          False   \n",
       "4       Our culture is anything but corporate—we have ...          False   \n",
       "5                                   Full Benefits Offered          False   \n",
       "\n",
       "        has_company_logo  has_questions employment_type required_experience  \\\n",
       "job_id                                                                        \n",
       "1                   True          False           Other              Junior   \n",
       "2                   True          False       Full-time                 NaN   \n",
       "3                   True          False             NaN                 NaN   \n",
       "4                   True          False       Full-time            Standard   \n",
       "5                   True           True       Full-time            Standard   \n",
       "\n",
       "       required_education    function  fraudulent  \n",
       "job_id                                             \n",
       "1                     NaN    Business       False  \n",
       "2                     NaN    Business       False  \n",
       "3                     NaN         NaN       False  \n",
       "4           Undergraduate    Business       False  \n",
       "5           Undergraduate  Healthcare       False  "
      ]
     },
     "execution_count": 109,
     "metadata": {},
     "output_type": "execute_result"
    }
   ],
   "source": [
    "df.head()"
   ]
  },
  {
   "cell_type": "code",
   "execution_count": 110,
   "id": "8ee45319-226d-46f9-bc49-41eb1ef31017",
   "metadata": {},
   "outputs": [],
   "source": [
    "df.to_csv(\"cleaned_\" + FILENAME)"
   ]
  },
  {
   "cell_type": "code",
   "execution_count": 3,
   "id": "cd00059f-b541-4484-8ede-5f990fa49fac",
   "metadata": {},
   "outputs": [],
   "source": [
    "def clean_label_name(text):\n",
    "    return text.replace(\"_\", \" \").title()"
   ]
  },
  {
   "cell_type": "code",
   "execution_count": 4,
   "id": "8665d982-76e6-4b47-8d63-4520104f27b8",
   "metadata": {},
   "outputs": [
    {
     "data": {
      "image/png": "[encoded data removed]",
      "text/plain": [
       "<Figure size 432x288 with 1 Axes>"
      ]
     },
     "metadata": {
      "needs_background": "light"
     },
     "output_type": "display_data"
    }
   ],
   "source": [
    "col = \"fraudulent\"\n",
    "clean_label = clean_label_name(col)\n",
    "ax = sns.countplot(x=col, data=df)\n",
    "ax.set(xlabel=clean_label, ylabel='Count', title=f'{clean_label} Count')\n",
    "plt.show()"
   ]
  },
  {
   "cell_type": "code",
   "execution_count": 5,
   "id": "73300929-a28a-4802-a563-d2f4c7b36eaa",
   "metadata": {},
   "outputs": [
    {
     "data": {
      "image/png": "[encoded data removed]",
      "text/plain": [
       "<Figure size 1440x360 with 3 Axes>"
      ]
     },
     "metadata": {
      "needs_background": "light"
     },
     "output_type": "display_data"
    }
   ],
   "source": [
    "binary_columns = [\"telecommuting\", \"has_company_logo\", \"has_questions\"]\n",
    "f, axes = plt.subplots(1, 3, sharey=True, figsize=(20, 5))\n",
    "for i in range(len(binary_columns)):\n",
    "    col = binary_columns[i]\n",
    "    ax = axes[i]\n",
    "    ax = sns.countplot(x=\"fraudulent\", hue=col, data=df, ax=ax)\n",
    "    ax.set(xlabel=clean_label_name(\"fraudulent\"), ylabel='Count', title=f'{clean_label_name(col)} Count', yscale=\"log\")\n",
    "plt.show()"
   ]
  },
  {
   "cell_type": "code",
   "execution_count": 6,
   "id": "843c701d-11aa-401d-90ef-4b2708a9a283",
   "metadata": {},
   "outputs": [],
   "source": [
    "df_fake = df[df[\"fraudulent\"] == True]\n",
    "df_real = df[df[\"fraudulent\"] == False]"
   ]
  },
  {
   "cell_type": "code",
   "execution_count": 8,
   "id": "bd91efd5-62ba-4bd2-ac82-ce60b4d684a8",
   "metadata": {},
   "outputs": [
    {
     "data": {
      "text/plain": [
       "array(['Other', 'Full-time', nan, 'Part-time', 'Contract', 'Temporary'],\n",
       "      dtype=object)"
      ]
     },
     "execution_count": 8,
     "metadata": {},
     "output_type": "execute_result"
    }
   ],
   "source": [
    "df[\"employment_type\"].unique()"
   ]
  },
  {
   "cell_type": "code",
   "execution_count": 11,
   "id": "fda9f492-1f51-4c16-973c-6fce7ad727f2",
   "metadata": {},
   "outputs": [
    {
     "data": {
      "image/png": "[encoded data removed]",
      "text/plain": [
       "<Figure size 432x288 with 1 Axes>"
      ]
     },
     "metadata": {
      "needs_background": "light"
     },
     "output_type": "display_data"
    }
   ],
   "source": [
    "col = \"fraudulent\"\n",
    "clean_label = clean_label_name(col)\n",
    "ax = sns.countplot(x=col, hue=\"employment_type\", data=df)\n",
    "ax.set(xlabel=clean_label, ylabel='Count', title=f'{clean_label} Count', yscale='log')\n",
    "plt.show()"
   ]
  },
  {
   "cell_type": "code",
   "execution_count": 12,
   "id": "1c6bc866-8157-4543-9ef9-0a61f2a8e711",
   "metadata": {},
   "outputs": [
    {
     "data": {
      "text/plain": [
       "array(['Internship', 'Not Applicable', nan, 'Mid-Senior level',\n",
       "       'Associate', 'Entry level', 'Executive', 'Director'], dtype=object)"
      ]
     },
     "execution_count": 12,
     "metadata": {},
     "output_type": "execute_result"
    }
   ],
   "source": [
    "df[\"required_experience\"].unique()"
   ]
  },
  {
   "cell_type": "code",
   "execution_count": 13,
   "id": "e70daae5-2dc9-4f6d-87ca-c6b330f03ff0",
   "metadata": {},
   "outputs": [
    {
     "data": {
      "text/plain": [
       "array([nan, \"Bachelor's Degree\", \"Master's Degree\",\n",
       "       'High School or equivalent', 'Unspecified',\n",
       "       'Some College Coursework Completed', 'Vocational', 'Certification',\n",
       "       'Associate Degree', 'Professional', 'Doctorate',\n",
       "       'Some High School Coursework', 'Vocational - Degree',\n",
       "       'Vocational - HS Diploma'], dtype=object)"
      ]
     },
     "execution_count": 13,
     "metadata": {},
     "output_type": "execute_result"
    }
   ],
   "source": [
    "df[\"required_education\"].unique()"
   ]
  },
  {
   "cell_type": "code",
   "execution_count": null,
   "id": "b3ea6602-b190-4315-a28f-d28602110235",
   "metadata": {},
   "outputs": [],
   "source": []
  }
 ],
 "metadata": {
  "kernelspec": {
   "display_name": "Python 3 (ipykernel)",
   "language": "python",
   "name": "python3"
  },
  "language_info": {
   "codemirror_mode": {
    "name": "ipython",
    "version": 3
   },
   "file_extension": ".py",
   "mimetype": "text/x-python",
   "name": "python",
   "nbconvert_exporter": "python",
   "pygments_lexer": "ipython3",
   "version": "3.9.7"
  }
 },
 "nbformat": 4,
 "nbformat_minor": 5
}
